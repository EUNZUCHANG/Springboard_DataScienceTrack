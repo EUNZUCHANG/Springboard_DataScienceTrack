{
 "cells": [
  {
   "cell_type": "markdown",
   "metadata": {},
   "source": [
    "#  Unit 7.2 API Mini-Project"
   ]
  },
  {
   "cell_type": "markdown",
   "metadata": {},
   "source": [
    "This exercise will require you to pull some data from https://data.nasdaq.com/ (formerly Quandl API)."
   ]
  },
  {
   "cell_type": "markdown",
   "metadata": {},
   "source": [
    "As a first step, you will need to register a free account on the https://data.nasdaq.com/ website."
   ]
  },
  {
   "cell_type": "markdown",
   "metadata": {},
   "source": [
    "After you register, you will be provided with a unique API key, that you should store:\n",
    "\n",
    "*Note*: Use a `.env` file and put your key in there and `python-dotenv` to access it in this notebook. \n",
    "\n",
    "The code below uses a key that was used when generating this project but has since been deleted. Never submit your keys to source control. There is a `.env-example` file in this repository to illusrtate what you need. Copy that to a file called `.env` and use your own api key in that `.env` file. Make sure you also have a `.gitignore` file with a line for `.env` added to it. \n",
    "\n",
    "The standard Python gitignore is [here](https://github.com/github/gitignore/blob/master/Python.gitignore) you can just copy that. "
   ]
  },
  {
   "cell_type": "code",
   "execution_count": null,
   "metadata": {},
   "outputs": [],
   "source": [
    "# get api key from your .env file\n",
    "import os\n",
    "from dotenv import load_dotenv\n",
    "\n",
    "load_dotenv()\n",
    "API_KEY = os.getenv('NASDAQ_API_KEY')\n",
    "\n",
    "print(API_KEY)"
   ]
  },
  {
   "cell_type": "markdown",
   "metadata": {},
   "source": [
    "Nasdaq Data has a large number of data sources, but, unfortunately, most of them require a Premium subscription. Still, there are also a good number of free datasets."
   ]
  },
  {
   "cell_type": "markdown",
   "metadata": {},
   "source": [
    "For this mini project, we will focus on equities data from the Frankfurt Stock Exhange (FSE), which is available for free. We'll try and analyze the stock prices of a company called Carl Zeiss Meditec, which manufactures tools for eye examinations, as well as medical lasers for laser eye surgery: https://www.zeiss.com/meditec/int/home.html. The company is listed under the stock ticker AFX_X."
   ]
  },
  {
   "cell_type": "markdown",
   "metadata": {},
   "source": [
    "You can find the detailed Nasdaq Data API instructions here: https://docs.data.nasdaq.com/docs/in-depth-usage"
   ]
  },
  {
   "cell_type": "markdown",
   "metadata": {},
   "source": [
    "While there is a dedicated Python package for connecting to the Nasdaq API, we would prefer that you use the *requests* package, which can be easily downloaded using *pip* or *conda*. You can find the documentation for the package here: http://docs.python-requests.org/en/master/ "
   ]
  },
  {
   "cell_type": "markdown",
   "metadata": {},
   "source": [
    "Finally, apart from the *requests* package, you are encouraged to not use any third party Python packages, such as *pandas*, and instead focus on what's available in the Python Standard Library (the *collections* module might come in handy: https://pymotw.com/3/collections/).\n",
    "Also, since you won't have access to DataFrames, you are encouraged to us Python's native data structures - preferably dictionaries, though some questions can also be answered using lists.\n",
    "You can read more on these data structures here: https://docs.python.org/3/tutorial/datastructures.html"
   ]
  },
  {
   "cell_type": "markdown",
   "metadata": {},
   "source": [
    "Keep in mind that the JSON responses you will be getting from the API map almost one-to-one to Python's dictionaries. Unfortunately, they can be very nested, so make sure you read up on indexing dictionaries in the documentation provided above."
   ]
  },
  {
   "cell_type": "code",
   "execution_count": 2,
   "metadata": {},
   "outputs": [],
   "source": [
    "# First, import the relevant modules\n",
    "import requests\n",
    "import json"
   ]
  },
  {
   "cell_type": "markdown",
   "metadata": {},
   "source": [
    "Note: API's can change a bit with each version, for this exercise it is reccomended to use the nasdaq api at `https://data.nasdaq.com/api/v3/`. This is the same api as what used to be quandl so `https://www.quandl.com/api/v3/` should work too.\n",
    "\n",
    "Hint: We are looking for the `AFX_X` data on the `datasets/FSE/` dataset."
   ]
  },
  {
   "cell_type": "code",
   "execution_count": 3,
   "metadata": {},
   "outputs": [],
   "source": [
    "# Now, call the Nasdaq API and pull out a small sample of the data (only one day) to get a glimpse\n",
    "# into the JSON structure that will be returned\n",
    "# https://data.nasdaq.com/api/v3/datasets/{database_code: datasets}/{dataset_code: FSE}/AFX_X.{return_format}\n",
    "url = 'https://data.nasdaq.com/api/v3/datasets/FSE/AFX_X.json?&start_date=2022-10-14&end_date=2022-10-14&api_key=' + API_KEY\n",
    "r = requests.get(url)"
   ]
  },
  {
   "cell_type": "code",
   "execution_count": 4,
   "metadata": {},
   "outputs": [
    {
     "name": "stdout",
     "output_type": "stream",
     "text": [
      "dataset:  {'id': 10095370, 'dataset_code': 'AFX_X', 'database_code': 'FSE', 'name': 'Carl Zeiss Meditec (AFX_X)', 'description': 'Stock Prices for Carl Zeiss Meditec (2020-11-02) from the Frankfurt Stock Exchange.<br><br>Trading System: Xetra<br><br>ISIN: DE0005313704', 'refreshed_at': '2020-12-01T14:48:09.907Z', 'newest_available_date': '2020-12-01', 'oldest_available_date': '2000-06-07', 'column_names': ['Date', 'Open', 'High', 'Low', 'Close', 'Change', 'Traded Volume', 'Turnover', 'Last Price of the Day', 'Daily Traded Units', 'Daily Turnover'], 'frequency': 'daily', 'type': 'Time Series', 'premium': False, 'limit': None, 'transform': None, 'column_index': None, 'start_date': '2022-10-14', 'end_date': '2020-12-01', 'data': [], 'collapse': None, 'order': None, 'database_id': 6129}\n"
     ]
    }
   ],
   "source": [
    "# Inspect the JSON structure of the object you created, and take note of how nested it is,\n",
    "# as well as the overall structure\n",
    "json_data = r.json()\n",
    "\n",
    "for key, value in json_data.items():\n",
    "    print(key+': ', value)"
   ]
  },
  {
   "cell_type": "markdown",
   "metadata": {},
   "source": [
    "# Tasks for the mini project"
   ]
  },
  {
   "cell_type": "markdown",
   "metadata": {},
   "source": [
    "### 1. Collect data from the Franfurt Stock Exchange, for the ticker AFX_X, for the whole year 2017 (keep in mind that the date format is YYYY-MM-DD)."
   ]
  },
  {
   "cell_type": "code",
   "execution_count": 5,
   "metadata": {},
   "outputs": [],
   "source": [
    "url = 'https://data.nasdaq.com/api/v3/datasets/FSE/AFX_X.json?&start_date=2017-01-01&end_date=2017-12-31&?download_type=full&api_key=' + API_KEY\n",
    "r = requests.get(url)"
   ]
  },
  {
   "cell_type": "markdown",
   "metadata": {},
   "source": [
    "### 2. Convert the returned JSON object into a Python dictionary."
   ]
  },
  {
   "cell_type": "code",
   "execution_count": 6,
   "metadata": {},
   "outputs": [
    {
     "data": {
      "text/plain": [
       "dict"
      ]
     },
     "execution_count": 6,
     "metadata": {},
     "output_type": "execute_result"
    }
   ],
   "source": [
    "data = r.json()\n",
    "type(data)"
   ]
  },
  {
   "cell_type": "markdown",
   "metadata": {},
   "source": [
    "### 3. Calculate what the highest and lowest opening prices were for the stock in this period."
   ]
  },
  {
   "cell_type": "code",
   "execution_count": 7,
   "metadata": {},
   "outputs": [
    {
     "data": {
      "text/plain": [
       "255"
      ]
     },
     "execution_count": 7,
     "metadata": {},
     "output_type": "execute_result"
    }
   ],
   "source": [
    "#Find the number of data\n",
    "len(data['dataset']['data'])"
   ]
  },
  {
   "cell_type": "code",
   "execution_count": 8,
   "metadata": {
    "scrolled": false
   },
   "outputs": [
    {
     "name": "stdout",
     "output_type": "stream",
     "text": [
      "[51.76, 51.65, 51.45, 51.05, 51.16, 51.88, 52.73, 52.37, 52.7, 53.11, 52.64, 52.29, 52.28, 51.5, 50.89, 50.8, 51.21, 49.5, 49.52, 48.64, 49.64, 49.09, 49.13, 49.11, 48.8, 48.4, 47.25, 46.57, 47.03, 47.09, 47.98, 48.4, 48.38, 47.3, 47.65, 46.42, 46.16, 45.81, 45.0, 45.88, 46.29, 46.53, 45.48, 45.2, 45.01, 45.16, 44.9, 45.08, 45.72, 46.01, 45.8, 45.61, 45.5, 45.58, 45.97, 45.64, 46.2, 46.19, 46.01, 45.36, 44.51, 43.58, 42.0, 42.35, 42.3, 42.3, 41.48, 42.29, 42.54, 42.65, 42.5, 42.29, 42.35, 42.49, 43.21, 42.81, 42.7, 43.0, 42.66, 43.0, 42.38, 42.16, 42.0, 42.0, 41.71, 42.11, 42.64, 42.72, 42.82, 42.46, 42.42, 42.28, 41.88, 42.4, 42.53, 42.12, 41.3, 41.73, 43.5, 44.9, 45.85, 45.13, 45.34, 45.25, 45.24, 44.94, 45.26, 45.16, 44.91, 44.7, 45.31, 45.57, 45.74, 45.06, 45.5, 45.6, 45.07, 44.67, 44.29, 44.94, 44.64, 44.79, 45.5, 44.67, 45.83, 45.29, 45.01, 45.73, 46.68, 47.23, 46.95, 47.29, 47.03, 47.46, 46.48, 46.9, 45.66, 46.34, 46.52, 46.5, 47.31, 46.77, 47.8, 47.01, 47.12, 46.8, 46.12, 45.22, 45.05, 45.61, 44.8, 44.8, 43.92, 43.67, 44.16, 43.74, 44.0, 45.06, 45.15, 45.09, 45.18, 43.4, 43.5, 41.83, 43.0, 42.52, 41.86, 42.2, 41.89, 42.17, 41.51, 41.88, 41.93, 42.01, 41.97, 42.5, 41.94, 42.24, 42.06, 42.02, 41.62, 41.46, 40.9, 40.96, 41.1, 39.5, 40.15, 39.77, 40.02, 39.39, 38.95, 38.73, 38.94, 39.01, 38.25, 41.8, 41.26, 41.47, 41.4, 41.4, 41.2, 41.4, 41.53, 41.61, 41.13, 41.5, 41.25, 41.12, 41.38, 41.19, 40.38, 39.75, 39.77, 39.72, 39.6, 38.85, 39.25, 38.8, 38.8, 38.5, 38.81, 37.37, 36.65, 36.2, 35.98, 35.56, 36.06, 36.02, 35.95, 34.75, 35.24, 35.38, 34.83, 35.07, 34.42, 34.0, 34.04, 34.54, 35.04, 35.04, 35.06, 34.85, 34.98, 35.38, 34.95, 34.8, 35.29, 34.91, 35.02, 35.48, 35.9, 34.99]\n"
     ]
    }
   ],
   "source": [
    "# Find out opening prices\n",
    "op_price=[]\n",
    "\n",
    "for i in range (255):\n",
    "    k=data['dataset']['data'][i][1]\n",
    "    if k !=None:\n",
    "        op_price.append(k)\n",
    "    \n",
    "print(op_price)"
   ]
  },
  {
   "cell_type": "code",
   "execution_count": 9,
   "metadata": {},
   "outputs": [
    {
     "name": "stdout",
     "output_type": "stream",
     "text": [
      "The highest opening price in 2017 were $53.11 on 2017-12-14\n"
     ]
    }
   ],
   "source": [
    "# The higest opening price\n",
    "high_price=max(op_price)\n",
    "\n",
    "idx=op_price.index(high_price)\n",
    "\n",
    "# Find the date of the highest opening price\n",
    "high_date=data['dataset']['data'][idx][0]\n",
    "\n",
    "print('The highest opening price in 2017 were ${} on {}'. format(high_price,high_date))"
   ]
  },
  {
   "cell_type": "code",
   "execution_count": 10,
   "metadata": {},
   "outputs": [
    {
     "name": "stdout",
     "output_type": "stream",
     "text": [
      "The lowest opening price in 2017 were $34.0 on 2017-01-27\n"
     ]
    }
   ],
   "source": [
    "# The lowest opening price\n",
    "low_price=min(op_price)\n",
    "\n",
    "idx=op_price.index(low_price)\n",
    "\n",
    "# Find the date of the highest opening price\n",
    "low_date=data['dataset']['data'][idx][0]\n",
    "\n",
    "print('The lowest opening price in 2017 were ${} on {}'. format(low_price,low_date))"
   ]
  },
  {
   "cell_type": "markdown",
   "metadata": {},
   "source": [
    "### 4. What was the largest change in any one day (based on High and Low price)?"
   ]
  },
  {
   "cell_type": "code",
   "execution_count": 11,
   "metadata": {
    "scrolled": true
   },
   "outputs": [
    {
     "name": "stdout",
     "output_type": "stream",
     "text": [
      "[0.4899999999999949, 0.39000000000000057, 1.1300000000000026, 0.5799999999999983, 0.6200000000000045, 0.8399999999999963, 1.6599999999999966, 1.1400000000000006, 1.0600000000000023, 1.3900000000000006, 0.8700000000000045, 1.2800000000000011, 1.1900000000000048, 1.5499999999999972, 0.6599999999999966, 0.7199999999999989, 0.980000000000004, 1.7299999999999969, 1.3200000000000003, 1.5600000000000023, 0.9399999999999977, 0.8599999999999994, 0.769999999999996, 0.5399999999999991, 1.009999999999998, 1.2199999999999989, 1.8100000000000023, 0.8400000000000034, 0.3500000000000014, 0.6799999999999997, 1.259999999999998, 1.0599999999999952, 0.8500000000000014, 1.730000000000004, 0.9699999999999989, 1.2999999999999972, 0.4899999999999949, 0.3300000000000054, 1.2100000000000009, 0.8800000000000026, 0.5799999999999983, 1.0399999999999991, 0.9600000000000009, 0.5, 0.35999999999999943, 0.5200000000000031, 0.45000000000000284, 0.5800000000000054, 1.0600000000000023, 0.5900000000000034, 0.6900000000000048, 0.45000000000000284, 0.3300000000000054, 0.4099999999999966, 0.7199999999999989, 0.46999999999999886, 0.6000000000000014, 0.5, 0.46000000000000085, 0.9500000000000028, 0.7999999999999972, 0.8700000000000045, 1.5600000000000023, 0.7100000000000009, 0.46000000000000085, 0.3399999999999963, 0.9000000000000057, 0.8999999999999986, 0.5499999999999972, 0.519999999999996, 0.4000000000000057, 0.5600000000000023, 0.44999999999999574, 0.46999999999999886, 0.720000000000006, 0.3299999999999983, 0.18999999999999773, 0.3500000000000014, 0.36999999999999744, 0.6400000000000006, 0.7999999999999972, 0.990000000000002, 0.9600000000000009, 0.7100000000000009, 0.6499999999999986, 0.39000000000000057, 0.5900000000000034, 0.4199999999999946, 0.5700000000000003, 0.5600000000000023, 0.5599999999999952, 0.5900000000000034, 1.25, 0.6400000000000006, 0.3299999999999983, 0.6799999999999997, 0.9799999999999969, 0.8500000000000014, 1.8599999999999994, 0.9400000000000048, 2.3200000000000003, 0.7700000000000031, 0.6300000000000026, 0.8700000000000045, 0.4399999999999977, 0.8100000000000023, 0.5399999999999991, 0.30000000000000426, 0.8699999999999974, 0.4099999999999966, 0.8200000000000003, 0.8400000000000034, 0.730000000000004, 0.7800000000000011, 0.8499999999999943, 0.9399999999999977, 0.730000000000004, 0.509999999999998, 1.1599999999999966, 0.8599999999999994, 0.6700000000000017, 0.5399999999999991, 1.3500000000000014, 0.9200000000000017, 1.0899999999999963, 0.769999999999996, 0.740000000000002, 0.7000000000000028, 1.2700000000000031, 0.9399999999999977, 0.720000000000006, 0.6099999999999994, 0.6499999999999986, 0.9499999999999957, 1.1599999999999966, 0.6499999999999986, 1.1400000000000006, 1.1300000000000026, 0.8100000000000023, 0.4799999999999969, 1.5399999999999991, 0.8900000000000006, 1.529999999999994, 0.4200000000000017, 1.240000000000002, 0.2700000000000031, 0.6300000000000026, 1.0399999999999991, 0.970000000000006, 0.36999999999999744, 0.6499999999999986, 0.5799999999999983, 0.75, 0.5800000000000054, 0.7800000000000011, 0.37999999999999545, 1.009999999999998, 1.3300000000000054, 0.7999999999999972, 1.4699999999999989, 1.0200000000000031, 2.8100000000000023, 1.0700000000000003, 1.7299999999999969, 0.9600000000000009, 0.529999999999994, 0.7899999999999991, 0.509999999999998, 0.46999999999999886, 0.5899999999999963, 0.5900000000000034, 0.730000000000004, 0.5399999999999991, 0.5200000000000031, 0.7900000000000063, 1.1300000000000026, 1.1199999999999974, 0.6700000000000017, 0.8599999999999994, 0.49499999999999744, 0.49499999999999744, 0.4899999999999949, 0.6099999999999994, 0.5, 0.36999999999999744, 0.5799999999999983, 0.4200000000000017, 0.5500000000000043, 1.4000000000000057, 0.6099999999999994, 0.6499999999999986, 0.7199999999999989, 0.9600000000000009, 0.5600000000000023, 0.5700000000000003, 0.4200000000000017, 0.6199999999999974, 1.490000000000002, 0.8599999999999994, 0.9100000000000037, 0.4300000000000068, 0.4799999999999969, 0.5900000000000034, 0.29999999999999716, 0.38000000000000256, 0.37000000000000455, 0.45000000000000284, 0.759999999999998, 0.5499999999999972, 0.5899999999999963, 0.37999999999999545, 0.6300000000000026, 0.6700000000000017, 0.5700000000000003, 0.8900000000000006, 1.230000000000004, 0.5999999999999943, 0.4799999999999969, 0.7199999999999989, 0.4399999999999977, 0.5500000000000043, 0.9500000000000028, 0.5300000000000011, 0.8599999999999994, 2.009999999999998, 0.9299999999999997, 0.4799999999999969, 0.29999999999999716, 0.6899999999999977, 0.5499999999999972, 0.47000000000000597, 0.5, 1.25, 0.6799999999999997, 0.6400000000000006, 0.6199999999999974, 0.7800000000000011, 0.8299999999999983, 0.5, 0.5, 0.5400000000000063, 0.6199999999999974, 0.7100000000000009, 0.3999999999999986, 0.6799999999999997, 0.37999999999999545, 1.0700000000000003, 1.1599999999999966, 0.519999999999996, 0.9200000000000017, 0.30000000000000426, 0.47000000000000597, 0.759999999999998, 0.5899999999999963, 0.9499999999999957]\n"
     ]
    }
   ],
   "source": [
    "# Find out change in one day\n",
    "change_price=[]\n",
    "\n",
    "for i in range (255):\n",
    "    high=data['dataset']['data'][i][2]\n",
    "    low=data['dataset']['data'][i][3]\n",
    "    change=high-low\n",
    "    change_price.append(change)\n",
    "    \n",
    "print(change_price)"
   ]
  },
  {
   "cell_type": "code",
   "execution_count": 12,
   "metadata": {},
   "outputs": [
    {
     "name": "stdout",
     "output_type": "stream",
     "text": [
      "The largest change in one day in 2017 were $2.81 on 2017-05-11\n"
     ]
    }
   ],
   "source": [
    "# The largest change in one day\n",
    "change=max(change_price)\n",
    "\n",
    "idx=change_price.index(change)\n",
    "\n",
    "# Find the date of the highest opening price\n",
    "change_date=data['dataset']['data'][idx][0]\n",
    "\n",
    "print('The largest change in one day in 2017 were ${:.2f} on {}'. format(change,change_date))"
   ]
  },
  {
   "cell_type": "markdown",
   "metadata": {},
   "source": [
    "### 5. What was the largest change between any two days (based on Closing Price)?"
   ]
  },
  {
   "cell_type": "code",
   "execution_count": 13,
   "metadata": {
    "scrolled": true
   },
   "outputs": [
    {
     "name": "stdout",
     "output_type": "stream",
     "text": [
      "[0.4899999999999949, 0.39000000000000057, 1.1300000000000026, 0.5799999999999983, 0.6200000000000045, 0.8399999999999963, 1.6599999999999966, 1.1400000000000006, 1.0600000000000023, 1.3900000000000006, 0.8700000000000045, 1.2800000000000011, 1.1900000000000048, 1.5499999999999972, 0.6599999999999966, 0.7199999999999989, 0.980000000000004, 1.7299999999999969, 1.3200000000000003, 1.5600000000000023, 0.9399999999999977, 0.8599999999999994, 0.769999999999996, 0.5399999999999991, 1.009999999999998, 1.2199999999999989, 1.8100000000000023, 0.8400000000000034, 0.3500000000000014, 0.6799999999999997, 1.259999999999998, 1.0599999999999952, 0.8500000000000014, 1.730000000000004, 0.9699999999999989, 1.2999999999999972, 0.4899999999999949, 0.3300000000000054, 1.2100000000000009, 0.8800000000000026, 0.5799999999999983, 1.0399999999999991, 0.9600000000000009, 0.5, 0.35999999999999943, 0.5200000000000031, 0.45000000000000284, 0.5800000000000054, 1.0600000000000023, 0.5900000000000034, 0.6900000000000048, 0.45000000000000284, 0.3300000000000054, 0.4099999999999966, 0.7199999999999989, 0.46999999999999886, 0.6000000000000014, 0.5, 0.46000000000000085, 0.9500000000000028, 0.7999999999999972, 0.8700000000000045, 1.5600000000000023, 0.7100000000000009, 0.46000000000000085, 0.3399999999999963, 0.9000000000000057, 0.8999999999999986, 0.5499999999999972, 0.519999999999996, 0.4000000000000057, 0.5600000000000023, 0.44999999999999574, 0.46999999999999886, 0.720000000000006, 0.3299999999999983, 0.18999999999999773, 0.3500000000000014, 0.36999999999999744, 0.6400000000000006, 0.7999999999999972, 0.990000000000002, 0.9600000000000009, 0.7100000000000009, 0.6499999999999986, 0.39000000000000057, 0.5900000000000034, 0.4199999999999946, 0.5700000000000003, 0.5600000000000023, 0.5599999999999952, 0.5900000000000034, 1.25, 0.6400000000000006, 0.3299999999999983, 0.6799999999999997, 0.9799999999999969, 0.8500000000000014, 1.8599999999999994, 0.9400000000000048, 2.3200000000000003, 0.7700000000000031, 0.6300000000000026, 0.8700000000000045, 0.4399999999999977, 0.8100000000000023, 0.5399999999999991, 0.30000000000000426, 0.8699999999999974, 0.4099999999999966, 0.8200000000000003, 0.8400000000000034, 0.730000000000004, 0.7800000000000011, 0.8499999999999943, 0.9399999999999977, 0.730000000000004, 0.509999999999998, 1.1599999999999966, 0.8599999999999994, 0.6700000000000017, 0.5399999999999991, 1.3500000000000014, 0.9200000000000017, 1.0899999999999963, 0.769999999999996, 0.740000000000002, 0.7000000000000028, 1.2700000000000031, 0.9399999999999977, 0.720000000000006, 0.6099999999999994, 0.6499999999999986, 0.9499999999999957, 1.1599999999999966, 0.6499999999999986, 1.1400000000000006, 1.1300000000000026, 0.8100000000000023, 0.4799999999999969, 1.5399999999999991, 0.8900000000000006, 1.529999999999994, 0.4200000000000017, 1.240000000000002, 0.2700000000000031, 0.6300000000000026, 1.0399999999999991, 0.970000000000006, 0.36999999999999744, 0.6499999999999986, 0.5799999999999983, 0.75, 0.5800000000000054, 0.7800000000000011, 0.37999999999999545, 1.009999999999998, 1.3300000000000054, 0.7999999999999972, 1.4699999999999989, 1.0200000000000031, 2.8100000000000023, 1.0700000000000003, 1.7299999999999969, 0.9600000000000009, 0.529999999999994, 0.7899999999999991, 0.509999999999998, 0.46999999999999886, 0.5899999999999963, 0.5900000000000034, 0.730000000000004, 0.5399999999999991, 0.5200000000000031, 0.7900000000000063, 1.1300000000000026, 1.1199999999999974, 0.6700000000000017, 0.8599999999999994, 0.49499999999999744, 0.49499999999999744, 0.4899999999999949, 0.6099999999999994, 0.5, 0.36999999999999744, 0.5799999999999983, 0.4200000000000017, 0.5500000000000043, 1.4000000000000057, 0.6099999999999994, 0.6499999999999986, 0.7199999999999989, 0.9600000000000009, 0.5600000000000023, 0.5700000000000003, 0.4200000000000017, 0.6199999999999974, 1.490000000000002, 0.8599999999999994, 0.9100000000000037, 0.4300000000000068, 0.4799999999999969, 0.5900000000000034, 0.29999999999999716, 0.38000000000000256, 0.37000000000000455, 0.45000000000000284, 0.759999999999998, 0.5499999999999972, 0.5899999999999963, 0.37999999999999545, 0.6300000000000026, 0.6700000000000017, 0.5700000000000003, 0.8900000000000006, 1.230000000000004, 0.5999999999999943, 0.4799999999999969, 0.7199999999999989, 0.4399999999999977, 0.5500000000000043, 0.9500000000000028, 0.5300000000000011, 0.8599999999999994, 2.009999999999998, 0.9299999999999997, 0.4799999999999969, 0.29999999999999716, 0.6899999999999977, 0.5499999999999972, 0.47000000000000597, 0.5, 1.25, 0.6799999999999997, 0.6400000000000006, 0.6199999999999974, 0.7800000000000011, 0.8299999999999983, 0.5, 0.5, 0.5400000000000063, 0.6199999999999974, 0.7100000000000009, 0.3999999999999986, 0.6799999999999997, 0.37999999999999545, 1.0700000000000003, 1.1599999999999966, 0.519999999999996, 0.9200000000000017, 0.30000000000000426, 0.47000000000000597, 0.759999999999998, 0.5899999999999963, 0.9499999999999957]\n"
     ]
    }
   ],
   "source": [
    "# Find out change in two days\n",
    "change_price_two=[]\n",
    "\n",
    "for i in range (254):\n",
    "    today=data['dataset']['data'][i][4]\n",
    "    nextday=data['dataset']['data'][i+1][4]\n",
    "    change_two=nextday-today\n",
    "    change_price_two.append(change_two)\n",
    "    \n",
    "print(change_price)"
   ]
  },
  {
   "cell_type": "code",
   "execution_count": 14,
   "metadata": {},
   "outputs": [
    {
     "name": "stdout",
     "output_type": "stream",
     "text": [
      "The largest change in two day in 2017 were $2.56 between 2017-08-08 and 2017-08-09\n"
     ]
    }
   ],
   "source": [
    "# The largest change in two day\n",
    "change_two=max(change_price_two)\n",
    "\n",
    "idx=change_price_two.index(change_two)\n",
    "\n",
    "# Find the date of the highest opening price\n",
    "change_date_two=data['dataset']['data'][idx][0]\n",
    "change_date_two_next=data['dataset']['data'][idx+1][0]\n",
    "\n",
    "print('The largest change in two day in 2017 were ${:.2f} between {} and {}'. format(change_two,change_date_two_next, change_date_two,change_date_two))"
   ]
  },
  {
   "cell_type": "markdown",
   "metadata": {},
   "source": [
    "### 6. What was the average daily trading volume during this year?"
   ]
  },
  {
   "cell_type": "code",
   "execution_count": 15,
   "metadata": {
    "scrolled": true
   },
   "outputs": [
    {
     "name": "stdout",
     "output_type": "stream",
     "text": [
      "[34640.0, 40660.0, 57452.0, 71165.0, 120649.0, 50587.0, 137313.0, 129733.0, 204080.0, 132981.0, 128434.0, 87911.0, 71817.0, 109157.0, 48123.0, 88730.0, 83023.0, 94385.0, 101733.0, 123019.0, 67342.0, 42669.0, 102180.0, 50350.0, 38834.0, 91142.0, 78502.0, 97252.0, 54107.0, 89373.0, 67593.0, 67672.0, 76286.0, 90245.0, 120268.0, 94195.0, 48152.0, 60716.0, 56911.0, 37958.0, 56319.0, 56245.0, 74472.0, 56319.0, 47730.0, 43042.0, 43375.0, 55707.0, 59991.0, 45263.0, 65837.0, 49246.0, 43362.0, 49180.0, 69455.0, 65860.0, 44059.0, 66760.0, 94804.0, 115706.0, 95313.0, 99821.0, 157234.0, 76600.0, 51321.0, 56224.0, 79955.0, 105194.0, 57838.0, 65546.0, 44037.0, 107144.0, 65157.0, 68801.0, 52828.0, 103273.0, 59881.0, 64320.0, 71006.0, 66351.0, 105288.0, 151474.0, 157888.0, 97804.0, 98156.0, 47130.0, 69734.0, 65213.0, 70269.0, 95376.0, 68812.0, 72886.0, 131361.0, 104676.0, 64334.0, 127682.0, 183412.0, 175161.0, 355857.0, 156168.0, 164543.0, 96202.0, 77854.0, 187468.0, 74975.0, 62672.0, 114006.0, 50557.0, 81970.0, 112224.0, 104282.0, 73422.0, 87399.0, 71971.0, 104003.0, 104995.0, 67375.0, 82745.0, 115705.0, 90538.0, 71868.0, 47999.0, 66116.0, 48706.0, 50549.0, 71381.0, 136112.0, 134965.0, 117165.0, 82492.0, 73322.0, 80586.0, 56071.0, 89752.0, 108334.0, 70056.0, 202214.0, 101733.0, 83741.0, 107644.0, 112942.0, 99674.0, 1945.0, 1081.0, 686.0, 290.0, 106513.0, 522.0, 587.0, 112.0, 74453.0, 49970.0, 111923.0, 38308.0, 70856.0, 45.0, 166160.0, 149515.0, 101476.0, 193702.0, 159495.0, 189125.0, 91858.0, 151439.0, 97456.0, 78512.0, 82058.0, 65266.0, 86559.0, 86348.0, 86348.0, 151683.0, 65847.0, 85973.0, 102084.0, 186784.0, 223621.0, 92722.0, 133057.0, 88416.0, 88416.0, 88416.0, 158278.0, 107817.0, 62297.0, 81255.0, 96794.0, 156005.0, 193156.0, 127973.0, 95382.0, 189201.0, 335406.0, 115075.0, 191515.0, 210926.0, 169971.0, 670349.0, 56906.0, 97572.0, 90109.0, 55799.0, 60324.0, 60420.0, 44803.0, 38518.0, 43988.0, 45111.0, 61925.0, 46510.0, 40800.0, 49863.0, 86753.0, 67440.0, 62655.0, 101294.0, 81945.0, 77619.0, 46070.0, 37014.0, 60583.0, 84682.0, 77420.0, 82601.0, 177171.0, 115843.0, 67781.0, 39731.0, 67410.0, 41911.0, 40705.0, 54279.0, 85137.0, 63371.0, 69603.0, 69657.0, 64103.0, 56240.0, 48797.0, 55333.0, 80246.0, 73105.0, 65931.0, 39195.0, 47879.0, 59367.0, 163860.0, 123530.0, 43976.0, 62225.0, 27507.0, 48412.0, 54408.0, 70618.0, 44700.0]\n"
     ]
    }
   ],
   "source": [
    "# Find out trading volume during this year\n",
    "trad_vol=[]\n",
    "\n",
    "for i in range (255):\n",
    "    vol=data['dataset']['data'][i][6]\n",
    "    trad_vol.append(vol)\n",
    "    \n",
    "print(trad_vol)"
   ]
  },
  {
   "cell_type": "code",
   "execution_count": 16,
   "metadata": {},
   "outputs": [],
   "source": [
    "# Total volumn during the year\n",
    "s=sum(trad_vol)"
   ]
  },
  {
   "cell_type": "code",
   "execution_count": 17,
   "metadata": {},
   "outputs": [],
   "source": [
    "# The number of days trading was happend\n",
    "l=len(trad_vol)"
   ]
  },
  {
   "cell_type": "code",
   "execution_count": 18,
   "metadata": {},
   "outputs": [
    {
     "name": "stdout",
     "output_type": "stream",
     "text": [
      "The average daily trading volumne in 2017 was 89124.34\n"
     ]
    }
   ],
   "source": [
    "# Aberage volumn\n",
    "average_volume = s/l\n",
    "\n",
    "print('The average daily trading volumne in 2017 was {:.2f}'.format(average_volume))"
   ]
  },
  {
   "cell_type": "markdown",
   "metadata": {},
   "source": [
    "### 7. (Optional) What was the median trading volume during this year. (Note: you may need to implement your own function for calculating the median.)"
   ]
  },
  {
   "cell_type": "code",
   "execution_count": 20,
   "metadata": {},
   "outputs": [
    {
     "name": "stdout",
     "output_type": "stream",
     "text": [
      "The median trading volume in 2017 was 76286.00\n"
     ]
    }
   ],
   "source": [
    "# sort the volum first\n",
    "sorted_vol=sorted(trad_vol)\n",
    "\n",
    "if len(sorted_vol)%2==1:\n",
    "    median_vol = sorted_vol[len(sorted_vol)//2]\n",
    "    \n",
    "else:\n",
    "    median_vol = (sorted_vol[len(sorted_vol)//2] + sorted_vol[(len(sorted_vol)//2)-1])/2\n",
    "    \n",
    "print('The median trading volume in 2017 was {:.2f}'.format(median_vol))  "
   ]
  },
  {
   "cell_type": "code",
   "execution_count": null,
   "metadata": {},
   "outputs": [],
   "source": []
  }
 ],
 "metadata": {
  "interpreter": {
   "hash": "7635eb1b9d0fe97add78a7368b6b431c09bb8ad5c42e437d64abdd99821c31ae"
  },
  "kernelspec": {
   "display_name": "Python 3 (ipykernel)",
   "language": "python",
   "name": "python3"
  },
  "language_info": {
   "codemirror_mode": {
    "name": "ipython",
    "version": 3
   },
   "file_extension": ".py",
   "mimetype": "text/x-python",
   "name": "python",
   "nbconvert_exporter": "python",
   "pygments_lexer": "ipython3",
   "version": "3.9.7"
  }
 },
 "nbformat": 4,
 "nbformat_minor": 4
}
